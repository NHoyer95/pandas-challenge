{
 "cells": [
  {
   "cell_type": "code",
   "execution_count": 1,
   "metadata": {},
   "outputs": [],
   "source": [
    "# Dependencies and Setup\n",
    "import pandas as pd\n",
    "\n",
    "# File to Load (Remember to Change These)\n",
    "school_data_to_load = \"Resources/schools_complete.csv\"\n",
    "student_data_to_load = \"Resources/students_complete.csv\""
   ]
  },
  {
   "cell_type": "code",
   "execution_count": 2,
   "metadata": {},
   "outputs": [
    {
     "data": {
      "text/html": [
       "<div>\n",
       "<style scoped>\n",
       "    .dataframe tbody tr th:only-of-type {\n",
       "        vertical-align: middle;\n",
       "    }\n",
       "\n",
       "    .dataframe tbody tr th {\n",
       "        vertical-align: top;\n",
       "    }\n",
       "\n",
       "    .dataframe thead th {\n",
       "        text-align: right;\n",
       "    }\n",
       "</style>\n",
       "<table border=\"1\" class=\"dataframe\">\n",
       "  <thead>\n",
       "    <tr style=\"text-align: right;\">\n",
       "      <th></th>\n",
       "      <th>School ID</th>\n",
       "      <th>school_name</th>\n",
       "      <th>type</th>\n",
       "      <th>size</th>\n",
       "      <th>budget</th>\n",
       "    </tr>\n",
       "  </thead>\n",
       "  <tbody>\n",
       "    <tr>\n",
       "      <th>0</th>\n",
       "      <td>0</td>\n",
       "      <td>Huang High School</td>\n",
       "      <td>District</td>\n",
       "      <td>2917</td>\n",
       "      <td>1910635</td>\n",
       "    </tr>\n",
       "    <tr>\n",
       "      <th>1</th>\n",
       "      <td>1</td>\n",
       "      <td>Figueroa High School</td>\n",
       "      <td>District</td>\n",
       "      <td>2949</td>\n",
       "      <td>1884411</td>\n",
       "    </tr>\n",
       "    <tr>\n",
       "      <th>2</th>\n",
       "      <td>2</td>\n",
       "      <td>Shelton High School</td>\n",
       "      <td>Charter</td>\n",
       "      <td>1761</td>\n",
       "      <td>1056600</td>\n",
       "    </tr>\n",
       "    <tr>\n",
       "      <th>3</th>\n",
       "      <td>3</td>\n",
       "      <td>Hernandez High School</td>\n",
       "      <td>District</td>\n",
       "      <td>4635</td>\n",
       "      <td>3022020</td>\n",
       "    </tr>\n",
       "    <tr>\n",
       "      <th>4</th>\n",
       "      <td>4</td>\n",
       "      <td>Griffin High School</td>\n",
       "      <td>Charter</td>\n",
       "      <td>1468</td>\n",
       "      <td>917500</td>\n",
       "    </tr>\n",
       "  </tbody>\n",
       "</table>\n",
       "</div>"
      ],
      "text/plain": [
       "   School ID            school_name      type  size   budget\n",
       "0          0      Huang High School  District  2917  1910635\n",
       "1          1   Figueroa High School  District  2949  1884411\n",
       "2          2    Shelton High School   Charter  1761  1056600\n",
       "3          3  Hernandez High School  District  4635  3022020\n",
       "4          4    Griffin High School   Charter  1468   917500"
      ]
     },
     "execution_count": 2,
     "metadata": {},
     "output_type": "execute_result"
    }
   ],
   "source": [
    "# Read School Data File and store into Pandas DataFrame\n",
    "school_data = pd.read_csv(school_data_to_load)\n",
    "school_data.head()"
   ]
  },
  {
   "cell_type": "code",
   "execution_count": 3,
   "metadata": {},
   "outputs": [
    {
     "data": {
      "text/html": [
       "<div>\n",
       "<style scoped>\n",
       "    .dataframe tbody tr th:only-of-type {\n",
       "        vertical-align: middle;\n",
       "    }\n",
       "\n",
       "    .dataframe tbody tr th {\n",
       "        vertical-align: top;\n",
       "    }\n",
       "\n",
       "    .dataframe thead th {\n",
       "        text-align: right;\n",
       "    }\n",
       "</style>\n",
       "<table border=\"1\" class=\"dataframe\">\n",
       "  <thead>\n",
       "    <tr style=\"text-align: right;\">\n",
       "      <th></th>\n",
       "      <th>Student ID</th>\n",
       "      <th>student_name</th>\n",
       "      <th>gender</th>\n",
       "      <th>grade</th>\n",
       "      <th>school_name</th>\n",
       "      <th>reading_score</th>\n",
       "      <th>math_score</th>\n",
       "    </tr>\n",
       "  </thead>\n",
       "  <tbody>\n",
       "    <tr>\n",
       "      <th>0</th>\n",
       "      <td>0</td>\n",
       "      <td>Paul Bradley</td>\n",
       "      <td>M</td>\n",
       "      <td>9th</td>\n",
       "      <td>Huang High School</td>\n",
       "      <td>66</td>\n",
       "      <td>79</td>\n",
       "    </tr>\n",
       "    <tr>\n",
       "      <th>1</th>\n",
       "      <td>1</td>\n",
       "      <td>Victor Smith</td>\n",
       "      <td>M</td>\n",
       "      <td>12th</td>\n",
       "      <td>Huang High School</td>\n",
       "      <td>94</td>\n",
       "      <td>61</td>\n",
       "    </tr>\n",
       "    <tr>\n",
       "      <th>2</th>\n",
       "      <td>2</td>\n",
       "      <td>Kevin Rodriguez</td>\n",
       "      <td>M</td>\n",
       "      <td>12th</td>\n",
       "      <td>Huang High School</td>\n",
       "      <td>90</td>\n",
       "      <td>60</td>\n",
       "    </tr>\n",
       "    <tr>\n",
       "      <th>3</th>\n",
       "      <td>3</td>\n",
       "      <td>Dr. Richard Scott</td>\n",
       "      <td>M</td>\n",
       "      <td>12th</td>\n",
       "      <td>Huang High School</td>\n",
       "      <td>67</td>\n",
       "      <td>58</td>\n",
       "    </tr>\n",
       "    <tr>\n",
       "      <th>4</th>\n",
       "      <td>4</td>\n",
       "      <td>Bonnie Ray</td>\n",
       "      <td>F</td>\n",
       "      <td>9th</td>\n",
       "      <td>Huang High School</td>\n",
       "      <td>97</td>\n",
       "      <td>84</td>\n",
       "    </tr>\n",
       "  </tbody>\n",
       "</table>\n",
       "</div>"
      ],
      "text/plain": [
       "   Student ID       student_name gender grade        school_name  \\\n",
       "0           0       Paul Bradley      M   9th  Huang High School   \n",
       "1           1       Victor Smith      M  12th  Huang High School   \n",
       "2           2    Kevin Rodriguez      M  12th  Huang High School   \n",
       "3           3  Dr. Richard Scott      M  12th  Huang High School   \n",
       "4           4         Bonnie Ray      F   9th  Huang High School   \n",
       "\n",
       "   reading_score  math_score  \n",
       "0             66          79  \n",
       "1             94          61  \n",
       "2             90          60  \n",
       "3             67          58  \n",
       "4             97          84  "
      ]
     },
     "execution_count": 3,
     "metadata": {},
     "output_type": "execute_result"
    }
   ],
   "source": [
    "# Read School Data File and store into Pandas DataFrame\n",
    "student_data = pd.read_csv(student_data_to_load)\n",
    "student_data.head()"
   ]
  },
  {
   "cell_type": "code",
   "execution_count": 4,
   "metadata": {},
   "outputs": [
    {
     "data": {
      "text/html": [
       "<div>\n",
       "<style scoped>\n",
       "    .dataframe tbody tr th:only-of-type {\n",
       "        vertical-align: middle;\n",
       "    }\n",
       "\n",
       "    .dataframe tbody tr th {\n",
       "        vertical-align: top;\n",
       "    }\n",
       "\n",
       "    .dataframe thead th {\n",
       "        text-align: right;\n",
       "    }\n",
       "</style>\n",
       "<table border=\"1\" class=\"dataframe\">\n",
       "  <thead>\n",
       "    <tr style=\"text-align: right;\">\n",
       "      <th></th>\n",
       "      <th>Student ID</th>\n",
       "      <th>student_name</th>\n",
       "      <th>gender</th>\n",
       "      <th>grade</th>\n",
       "      <th>school_name</th>\n",
       "      <th>reading_score</th>\n",
       "      <th>math_score</th>\n",
       "      <th>School ID</th>\n",
       "      <th>type</th>\n",
       "      <th>size</th>\n",
       "      <th>budget</th>\n",
       "    </tr>\n",
       "  </thead>\n",
       "  <tbody>\n",
       "    <tr>\n",
       "      <th>0</th>\n",
       "      <td>0</td>\n",
       "      <td>Paul Bradley</td>\n",
       "      <td>M</td>\n",
       "      <td>9th</td>\n",
       "      <td>Huang High School</td>\n",
       "      <td>66</td>\n",
       "      <td>79</td>\n",
       "      <td>0</td>\n",
       "      <td>District</td>\n",
       "      <td>2917</td>\n",
       "      <td>1910635</td>\n",
       "    </tr>\n",
       "    <tr>\n",
       "      <th>1</th>\n",
       "      <td>1</td>\n",
       "      <td>Victor Smith</td>\n",
       "      <td>M</td>\n",
       "      <td>12th</td>\n",
       "      <td>Huang High School</td>\n",
       "      <td>94</td>\n",
       "      <td>61</td>\n",
       "      <td>0</td>\n",
       "      <td>District</td>\n",
       "      <td>2917</td>\n",
       "      <td>1910635</td>\n",
       "    </tr>\n",
       "    <tr>\n",
       "      <th>2</th>\n",
       "      <td>2</td>\n",
       "      <td>Kevin Rodriguez</td>\n",
       "      <td>M</td>\n",
       "      <td>12th</td>\n",
       "      <td>Huang High School</td>\n",
       "      <td>90</td>\n",
       "      <td>60</td>\n",
       "      <td>0</td>\n",
       "      <td>District</td>\n",
       "      <td>2917</td>\n",
       "      <td>1910635</td>\n",
       "    </tr>\n",
       "    <tr>\n",
       "      <th>3</th>\n",
       "      <td>3</td>\n",
       "      <td>Dr. Richard Scott</td>\n",
       "      <td>M</td>\n",
       "      <td>12th</td>\n",
       "      <td>Huang High School</td>\n",
       "      <td>67</td>\n",
       "      <td>58</td>\n",
       "      <td>0</td>\n",
       "      <td>District</td>\n",
       "      <td>2917</td>\n",
       "      <td>1910635</td>\n",
       "    </tr>\n",
       "    <tr>\n",
       "      <th>4</th>\n",
       "      <td>4</td>\n",
       "      <td>Bonnie Ray</td>\n",
       "      <td>F</td>\n",
       "      <td>9th</td>\n",
       "      <td>Huang High School</td>\n",
       "      <td>97</td>\n",
       "      <td>84</td>\n",
       "      <td>0</td>\n",
       "      <td>District</td>\n",
       "      <td>2917</td>\n",
       "      <td>1910635</td>\n",
       "    </tr>\n",
       "  </tbody>\n",
       "</table>\n",
       "</div>"
      ],
      "text/plain": [
       "   Student ID       student_name gender grade        school_name  \\\n",
       "0           0       Paul Bradley      M   9th  Huang High School   \n",
       "1           1       Victor Smith      M  12th  Huang High School   \n",
       "2           2    Kevin Rodriguez      M  12th  Huang High School   \n",
       "3           3  Dr. Richard Scott      M  12th  Huang High School   \n",
       "4           4         Bonnie Ray      F   9th  Huang High School   \n",
       "\n",
       "   reading_score  math_score  School ID      type  size   budget  \n",
       "0             66          79          0  District  2917  1910635  \n",
       "1             94          61          0  District  2917  1910635  \n",
       "2             90          60          0  District  2917  1910635  \n",
       "3             67          58          0  District  2917  1910635  \n",
       "4             97          84          0  District  2917  1910635  "
      ]
     },
     "execution_count": 4,
     "metadata": {},
     "output_type": "execute_result"
    }
   ],
   "source": [
    "# Combine the data into a single dataset.  \n",
    "school_df = pd.merge(student_data, school_data, how=\"left\", on=[\"school_name\", \"school_name\"])\n",
    "school_df.head()"
   ]
  },
  {
   "cell_type": "markdown",
   "metadata": {},
   "source": [
    "## District Summary\n",
    "\n",
    "* Calculate the total number of schools\n",
    "\n",
    "* Calculate the total number of students\n",
    "\n",
    "* Calculate the total budget\n",
    "\n",
    "* Calculate the average math score \n",
    "\n",
    "* Calculate the average reading score\n",
    "\n",
    "* Calculate the percentage of students with a passing math score (70 or greater)\n",
    "\n",
    "* Calculate the percentage of students with a passing reading score (70 or greater)\n",
    "\n",
    "* Calculate the percentage of students who passed math **and** reading (% Overall Passing)\n",
    "\n",
    "* Create a dataframe to hold the above results\n",
    "\n",
    "* Optional: give the displayed data cleaner formatting"
   ]
  },
  {
   "cell_type": "code",
   "execution_count": 5,
   "metadata": {},
   "outputs": [
    {
     "data": {
      "text/plain": [
       "15"
      ]
     },
     "execution_count": 5,
     "metadata": {},
     "output_type": "execute_result"
    }
   ],
   "source": [
    "#Calculate total number of schools in the district\n",
    "total_schools = school_df[\"school_name\"].nunique()\n",
    "total_schools"
   ]
  },
  {
   "cell_type": "code",
   "execution_count": 6,
   "metadata": {},
   "outputs": [
    {
     "data": {
      "text/plain": [
       "39170"
      ]
     },
     "execution_count": 6,
     "metadata": {},
     "output_type": "execute_result"
    }
   ],
   "source": [
    "#Calculate the total number of students in the district\n",
    "total_students = school_df[\"Student ID\"].nunique()\n",
    "total_students"
   ]
  },
  {
   "cell_type": "code",
   "execution_count": 7,
   "metadata": {},
   "outputs": [
    {
     "data": {
      "text/plain": [
       "24649428"
      ]
     },
     "execution_count": 7,
     "metadata": {},
     "output_type": "execute_result"
    }
   ],
   "source": [
    "#Calculate the total budget\n",
    "school_budgets = school_df[\"budget\"].unique()\n",
    "total_budget = school_budgets.sum()\n",
    "total_budget"
   ]
  },
  {
   "cell_type": "code",
   "execution_count": 8,
   "metadata": {},
   "outputs": [
    {
     "data": {
      "text/plain": [
       "78.98537145774827"
      ]
     },
     "execution_count": 8,
     "metadata": {},
     "output_type": "execute_result"
    }
   ],
   "source": [
    "#Calculate the average math score\n",
    "avg_math_scores = school_df[\"math_score\"].mean()\n",
    "avg_math_scores"
   ]
  },
  {
   "cell_type": "code",
   "execution_count": 9,
   "metadata": {},
   "outputs": [
    {
     "data": {
      "text/plain": [
       "81.87784018381414"
      ]
     },
     "execution_count": 9,
     "metadata": {},
     "output_type": "execute_result"
    }
   ],
   "source": [
    "#Calculate the average reading score\n",
    "avg_reading_scores = school_df[\"reading_score\"].mean()\n",
    "avg_reading_scores"
   ]
  },
  {
   "cell_type": "code",
   "execution_count": 10,
   "metadata": {},
   "outputs": [
    {
     "data": {
      "text/plain": [
       "0.749808526933878"
      ]
     },
     "execution_count": 10,
     "metadata": {},
     "output_type": "execute_result"
    }
   ],
   "source": [
    "#Calculate the percentage of students with a passing math score (70 or greater)\n",
    "passing_math_df = school_df.loc[school_df[\"math_score\"] >= 70]\n",
    "\n",
    "students_passed_math = passing_math_df[\"Student ID\"].nunique()\n",
    "\n",
    "#Calculate the percentage of students passing math\n",
    "percent_passing_math = students_passed_math / total_students\n",
    "percent_passing_math\n"
   ]
  },
  {
   "cell_type": "code",
   "execution_count": 11,
   "metadata": {},
   "outputs": [
    {
     "data": {
      "text/plain": [
       "0.8580546336482001"
      ]
     },
     "execution_count": 11,
     "metadata": {},
     "output_type": "execute_result"
    }
   ],
   "source": [
    "#Calculate the percentage of students with a passing reading score (70 or greater)\n",
    "passing_reading_df = school_df.loc[school_df[\"reading_score\"] >= 70]\n",
    "\n",
    "students_passed_reading = passing_reading_df[\"Student ID\"].nunique()\n",
    "\n",
    "#Calculate the percentage of students passing math\n",
    "percent_passing_reading = students_passed_reading / total_students\n",
    "percent_passing_reading"
   ]
  },
  {
   "cell_type": "code",
   "execution_count": 12,
   "metadata": {},
   "outputs": [
    {
     "data": {
      "text/plain": [
       "0.6517232575950983"
      ]
     },
     "execution_count": 12,
     "metadata": {},
     "output_type": "execute_result"
    }
   ],
   "source": [
    "#Calculate the percentage of students with a passing reading AND math score (70 or greater)\n",
    "passing_df = school_df.loc[(school_df[\"reading_score\"] >= 70) & (school_df[\"math_score\"] >= 70)]\n",
    "\n",
    "students_passed_both = passing_df[\"Student ID\"].nunique()\n",
    "percent_passing_both = students_passed_both / total_students\n",
    "percent_passing_both"
   ]
  },
  {
   "cell_type": "code",
   "execution_count": 13,
   "metadata": {},
   "outputs": [
    {
     "data": {
      "text/html": [
       "<div>\n",
       "<style scoped>\n",
       "    .dataframe tbody tr th:only-of-type {\n",
       "        vertical-align: middle;\n",
       "    }\n",
       "\n",
       "    .dataframe tbody tr th {\n",
       "        vertical-align: top;\n",
       "    }\n",
       "\n",
       "    .dataframe thead th {\n",
       "        text-align: right;\n",
       "    }\n",
       "</style>\n",
       "<table border=\"1\" class=\"dataframe\">\n",
       "  <thead>\n",
       "    <tr style=\"text-align: right;\">\n",
       "      <th></th>\n",
       "      <th>Total Schools</th>\n",
       "      <th>Total Students</th>\n",
       "      <th>Total Budget</th>\n",
       "      <th>Average Math Score</th>\n",
       "      <th>Average Reading Score</th>\n",
       "      <th>% Passing Math</th>\n",
       "      <th>% Passing Reading</th>\n",
       "      <th>% Overall Passing</th>\n",
       "    </tr>\n",
       "  </thead>\n",
       "  <tbody>\n",
       "    <tr>\n",
       "      <th>0</th>\n",
       "      <td>15</td>\n",
       "      <td>39170</td>\n",
       "      <td>$24,649,428.00</td>\n",
       "      <td>78.99</td>\n",
       "      <td>81.88</td>\n",
       "      <td>74.98%</td>\n",
       "      <td>85.81%</td>\n",
       "      <td>65.17%</td>\n",
       "    </tr>\n",
       "  </tbody>\n",
       "</table>\n",
       "</div>"
      ],
      "text/plain": [
       "   Total Schools  Total Students    Total Budget Average Math Score  \\\n",
       "0             15           39170  $24,649,428.00              78.99   \n",
       "\n",
       "  Average Reading Score % Passing Math % Passing Reading % Overall Passing  \n",
       "0                 81.88         74.98%            85.81%            65.17%  "
      ]
     },
     "execution_count": 13,
     "metadata": {},
     "output_type": "execute_result"
    }
   ],
   "source": [
    "#Create a summary df to store district results\n",
    "district_df = pd.DataFrame({\"Total Schools\": [total_schools],\n",
    "                            \"Total Students\": total_students,\n",
    "                            \"Total Budget\": total_budget,\n",
    "                            \"Average Math Score\": avg_math_scores,\n",
    "                            \"Average Reading Score\": avg_reading_scores,\n",
    "                            \"% Passing Math\": percent_passing_math,\n",
    "                            \"% Passing Reading\": percent_passing_reading,\n",
    "                            \"% Overall Passing\": percent_passing_both})\n",
    "\n",
    "#Formatting the fields in the district df\n",
    "district_df[\"Total Budget\"] = district_df[\"Total Budget\"].astype(float).map(\"${:,.2f}\".format)\n",
    "district_df[\"Average Math Score\"] = district_df[\"Average Math Score\"].astype(float).map(\"{:,.2f}\".format)\n",
    "district_df[\"Average Reading Score\"] = district_df[\"Average Reading Score\"].astype(float).map(\"{:,.2f}\".format)\n",
    "district_df[\"% Passing Math\"] = district_df[\"% Passing Math\"].astype(float).map(\"{:.2%}\".format)\n",
    "district_df[\"% Passing Reading\"] = district_df[\"% Passing Reading\"].astype(float).map(\"{:.2%}\".format)\n",
    "district_df[\"% Overall Passing\"] = district_df[\"% Overall Passing\"].astype(float).map(\"{:.2%}\".format)\n",
    "\n",
    "district_df"
   ]
  },
  {
   "cell_type": "markdown",
   "metadata": {},
   "source": [
    "## School Summary"
   ]
  },
  {
   "cell_type": "markdown",
   "metadata": {},
   "source": [
    "* Create an overview table that summarizes key metrics about each school, including:\n",
    "  * School Name\n",
    "  * School Type\n",
    "  * Total Students\n",
    "  * Total School Budget\n",
    "  * Per Student Budget\n",
    "  * Average Math Score\n",
    "  * Average Reading Score\n",
    "  * % Passing Math\n",
    "  * % Passing Reading\n",
    "  * % Overall Passing (The percentage of students that passed math **and** reading.)\n",
    "  \n",
    "* Create a dataframe to hold the above results"
   ]
  },
  {
   "cell_type": "code",
   "execution_count": 17,
   "metadata": {},
   "outputs": [
    {
     "data": {
      "text/html": [
       "<div>\n",
       "<style scoped>\n",
       "    .dataframe tbody tr th:only-of-type {\n",
       "        vertical-align: middle;\n",
       "    }\n",
       "\n",
       "    .dataframe tbody tr th {\n",
       "        vertical-align: top;\n",
       "    }\n",
       "\n",
       "    .dataframe thead th {\n",
       "        text-align: right;\n",
       "    }\n",
       "</style>\n",
       "<table border=\"1\" class=\"dataframe\">\n",
       "  <thead>\n",
       "    <tr style=\"text-align: right;\">\n",
       "      <th></th>\n",
       "      <th>Student ID</th>\n",
       "      <th>reading_score</th>\n",
       "      <th>math_score</th>\n",
       "      <th>School ID</th>\n",
       "      <th>size</th>\n",
       "      <th>budget</th>\n",
       "    </tr>\n",
       "    <tr>\n",
       "      <th>school_name</th>\n",
       "      <th></th>\n",
       "      <th></th>\n",
       "      <th></th>\n",
       "      <th></th>\n",
       "      <th></th>\n",
       "      <th></th>\n",
       "    </tr>\n",
       "  </thead>\n",
       "  <tbody>\n",
       "    <tr>\n",
       "      <th>Bailey High School</th>\n",
       "      <td>101303896</td>\n",
       "      <td>403225</td>\n",
       "      <td>383393</td>\n",
       "      <td>34832</td>\n",
       "      <td>24760576</td>\n",
       "      <td>15549641728</td>\n",
       "    </tr>\n",
       "    <tr>\n",
       "      <th>Cabrera High School</th>\n",
       "      <td>31477307</td>\n",
       "      <td>156027</td>\n",
       "      <td>154329</td>\n",
       "      <td>11148</td>\n",
       "      <td>3452164</td>\n",
       "      <td>2009159448</td>\n",
       "    </tr>\n",
       "    <tr>\n",
       "      <th>Figueroa High School</th>\n",
       "      <td>12949059</td>\n",
       "      <td>239335</td>\n",
       "      <td>226223</td>\n",
       "      <td>2949</td>\n",
       "      <td>8696601</td>\n",
       "      <td>5557128039</td>\n",
       "    </tr>\n",
       "    <tr>\n",
       "      <th>Ford High School</th>\n",
       "      <td>99055935</td>\n",
       "      <td>221164</td>\n",
       "      <td>211184</td>\n",
       "      <td>35607</td>\n",
       "      <td>7502121</td>\n",
       "      <td>4831365924</td>\n",
       "    </tr>\n",
       "    <tr>\n",
       "      <th>Griffin High School</th>\n",
       "      <td>19077394</td>\n",
       "      <td>123043</td>\n",
       "      <td>122360</td>\n",
       "      <td>5872</td>\n",
       "      <td>2155024</td>\n",
       "      <td>1346890000</td>\n",
       "    </tr>\n",
       "    <tr>\n",
       "      <th>Hernandez High School</th>\n",
       "      <td>46090440</td>\n",
       "      <td>375131</td>\n",
       "      <td>358238</td>\n",
       "      <td>13905</td>\n",
       "      <td>21483225</td>\n",
       "      <td>14007062700</td>\n",
       "    </tr>\n",
       "    <tr>\n",
       "      <th>Holden High School</th>\n",
       "      <td>9846620</td>\n",
       "      <td>35789</td>\n",
       "      <td>35784</td>\n",
       "      <td>3416</td>\n",
       "      <td>182329</td>\n",
       "      <td>105933149</td>\n",
       "    </tr>\n",
       "    <tr>\n",
       "      <th>Huang High School</th>\n",
       "      <td>4252986</td>\n",
       "      <td>236810</td>\n",
       "      <td>223528</td>\n",
       "      <td>0</td>\n",
       "      <td>8508889</td>\n",
       "      <td>5573322295</td>\n",
       "    </tr>\n",
       "    <tr>\n",
       "      <th>Johnson High School</th>\n",
       "      <td>154327815</td>\n",
       "      <td>385481</td>\n",
       "      <td>366942</td>\n",
       "      <td>57132</td>\n",
       "      <td>22667121</td>\n",
       "      <td>14733628650</td>\n",
       "    </tr>\n",
       "    <tr>\n",
       "      <th>Pena High School</th>\n",
       "      <td>22851829</td>\n",
       "      <td>80851</td>\n",
       "      <td>80654</td>\n",
       "      <td>8658</td>\n",
       "      <td>925444</td>\n",
       "      <td>563595396</td>\n",
       "    </tr>\n",
       "    <tr>\n",
       "      <th>Rodriguez High School</th>\n",
       "      <td>112111965</td>\n",
       "      <td>322898</td>\n",
       "      <td>307294</td>\n",
       "      <td>43989</td>\n",
       "      <td>15992001</td>\n",
       "      <td>10186904637</td>\n",
       "    </tr>\n",
       "    <tr>\n",
       "      <th>Shelton High School</th>\n",
       "      <td>11879706</td>\n",
       "      <td>147441</td>\n",
       "      <td>146796</td>\n",
       "      <td>3522</td>\n",
       "      <td>3101121</td>\n",
       "      <td>1860672600</td>\n",
       "    </tr>\n",
       "    <tr>\n",
       "      <th>Thomas High School</th>\n",
       "      <td>62705520</td>\n",
       "      <td>137093</td>\n",
       "      <td>136389</td>\n",
       "      <td>22890</td>\n",
       "      <td>2673225</td>\n",
       "      <td>1705517550</td>\n",
       "    </tr>\n",
       "    <tr>\n",
       "      <th>Wilson High School</th>\n",
       "      <td>33950493</td>\n",
       "      <td>191748</td>\n",
       "      <td>190115</td>\n",
       "      <td>11415</td>\n",
       "      <td>5212089</td>\n",
       "      <td>3012587442</td>\n",
       "    </tr>\n",
       "    <tr>\n",
       "      <th>Wright High School</th>\n",
       "      <td>45243900</td>\n",
       "      <td>151119</td>\n",
       "      <td>150628</td>\n",
       "      <td>18000</td>\n",
       "      <td>3240000</td>\n",
       "      <td>1888920000</td>\n",
       "    </tr>\n",
       "  </tbody>\n",
       "</table>\n",
       "</div>"
      ],
      "text/plain": [
       "                       Student ID  reading_score  math_score  School ID  \\\n",
       "school_name                                                               \n",
       "Bailey High School      101303896         403225      383393      34832   \n",
       "Cabrera High School      31477307         156027      154329      11148   \n",
       "Figueroa High School     12949059         239335      226223       2949   \n",
       "Ford High School         99055935         221164      211184      35607   \n",
       "Griffin High School      19077394         123043      122360       5872   \n",
       "Hernandez High School    46090440         375131      358238      13905   \n",
       "Holden High School        9846620          35789       35784       3416   \n",
       "Huang High School         4252986         236810      223528          0   \n",
       "Johnson High School     154327815         385481      366942      57132   \n",
       "Pena High School         22851829          80851       80654       8658   \n",
       "Rodriguez High School   112111965         322898      307294      43989   \n",
       "Shelton High School      11879706         147441      146796       3522   \n",
       "Thomas High School       62705520         137093      136389      22890   \n",
       "Wilson High School       33950493         191748      190115      11415   \n",
       "Wright High School       45243900         151119      150628      18000   \n",
       "\n",
       "                           size       budget  \n",
       "school_name                                   \n",
       "Bailey High School     24760576  15549641728  \n",
       "Cabrera High School     3452164   2009159448  \n",
       "Figueroa High School    8696601   5557128039  \n",
       "Ford High School        7502121   4831365924  \n",
       "Griffin High School     2155024   1346890000  \n",
       "Hernandez High School  21483225  14007062700  \n",
       "Holden High School       182329    105933149  \n",
       "Huang High School       8508889   5573322295  \n",
       "Johnson High School    22667121  14733628650  \n",
       "Pena High School         925444    563595396  \n",
       "Rodriguez High School  15992001  10186904637  \n",
       "Shelton High School     3101121   1860672600  \n",
       "Thomas High School      2673225   1705517550  \n",
       "Wilson High School      5212089   3012587442  \n",
       "Wright High School      3240000   1888920000  "
      ]
     },
     "execution_count": 17,
     "metadata": {},
     "output_type": "execute_result"
    }
   ],
   "source": [
    "school_groups = school_df.groupby([\"school_name\"])\n",
    "\n",
    "school_comp_df = school_groups.sum()\n",
    "school_comp_df"
   ]
  },
  {
   "cell_type": "code",
   "execution_count": 18,
   "metadata": {},
   "outputs": [
    {
     "data": {
      "text/html": [
       "<div>\n",
       "<style scoped>\n",
       "    .dataframe tbody tr th:only-of-type {\n",
       "        vertical-align: middle;\n",
       "    }\n",
       "\n",
       "    .dataframe tbody tr th {\n",
       "        vertical-align: top;\n",
       "    }\n",
       "\n",
       "    .dataframe thead th {\n",
       "        text-align: right;\n",
       "    }\n",
       "</style>\n",
       "<table border=\"1\" class=\"dataframe\">\n",
       "  <thead>\n",
       "    <tr style=\"text-align: right;\">\n",
       "      <th></th>\n",
       "      <th>Student ID</th>\n",
       "      <th>reading_score</th>\n",
       "      <th>math_score</th>\n",
       "      <th>School ID</th>\n",
       "      <th>size</th>\n",
       "      <th>budget</th>\n",
       "      <th>Passing Math</th>\n",
       "    </tr>\n",
       "    <tr>\n",
       "      <th>school_name</th>\n",
       "      <th></th>\n",
       "      <th></th>\n",
       "      <th></th>\n",
       "      <th></th>\n",
       "      <th></th>\n",
       "      <th></th>\n",
       "      <th></th>\n",
       "    </tr>\n",
       "  </thead>\n",
       "  <tbody>\n",
       "    <tr>\n",
       "      <th>Bailey High School</th>\n",
       "      <td>101303896</td>\n",
       "      <td>403225</td>\n",
       "      <td>383393</td>\n",
       "      <td>34832</td>\n",
       "      <td>24760576</td>\n",
       "      <td>15549641728</td>\n",
       "      <td>29370</td>\n",
       "    </tr>\n",
       "    <tr>\n",
       "      <th>Cabrera High School</th>\n",
       "      <td>31477307</td>\n",
       "      <td>156027</td>\n",
       "      <td>154329</td>\n",
       "      <td>11148</td>\n",
       "      <td>3452164</td>\n",
       "      <td>2009159448</td>\n",
       "      <td>29370</td>\n",
       "    </tr>\n",
       "    <tr>\n",
       "      <th>Figueroa High School</th>\n",
       "      <td>12949059</td>\n",
       "      <td>239335</td>\n",
       "      <td>226223</td>\n",
       "      <td>2949</td>\n",
       "      <td>8696601</td>\n",
       "      <td>5557128039</td>\n",
       "      <td>29370</td>\n",
       "    </tr>\n",
       "    <tr>\n",
       "      <th>Ford High School</th>\n",
       "      <td>99055935</td>\n",
       "      <td>221164</td>\n",
       "      <td>211184</td>\n",
       "      <td>35607</td>\n",
       "      <td>7502121</td>\n",
       "      <td>4831365924</td>\n",
       "      <td>29370</td>\n",
       "    </tr>\n",
       "    <tr>\n",
       "      <th>Griffin High School</th>\n",
       "      <td>19077394</td>\n",
       "      <td>123043</td>\n",
       "      <td>122360</td>\n",
       "      <td>5872</td>\n",
       "      <td>2155024</td>\n",
       "      <td>1346890000</td>\n",
       "      <td>29370</td>\n",
       "    </tr>\n",
       "    <tr>\n",
       "      <th>Hernandez High School</th>\n",
       "      <td>46090440</td>\n",
       "      <td>375131</td>\n",
       "      <td>358238</td>\n",
       "      <td>13905</td>\n",
       "      <td>21483225</td>\n",
       "      <td>14007062700</td>\n",
       "      <td>29370</td>\n",
       "    </tr>\n",
       "    <tr>\n",
       "      <th>Holden High School</th>\n",
       "      <td>9846620</td>\n",
       "      <td>35789</td>\n",
       "      <td>35784</td>\n",
       "      <td>3416</td>\n",
       "      <td>182329</td>\n",
       "      <td>105933149</td>\n",
       "      <td>29370</td>\n",
       "    </tr>\n",
       "    <tr>\n",
       "      <th>Huang High School</th>\n",
       "      <td>4252986</td>\n",
       "      <td>236810</td>\n",
       "      <td>223528</td>\n",
       "      <td>0</td>\n",
       "      <td>8508889</td>\n",
       "      <td>5573322295</td>\n",
       "      <td>29370</td>\n",
       "    </tr>\n",
       "    <tr>\n",
       "      <th>Johnson High School</th>\n",
       "      <td>154327815</td>\n",
       "      <td>385481</td>\n",
       "      <td>366942</td>\n",
       "      <td>57132</td>\n",
       "      <td>22667121</td>\n",
       "      <td>14733628650</td>\n",
       "      <td>29370</td>\n",
       "    </tr>\n",
       "    <tr>\n",
       "      <th>Pena High School</th>\n",
       "      <td>22851829</td>\n",
       "      <td>80851</td>\n",
       "      <td>80654</td>\n",
       "      <td>8658</td>\n",
       "      <td>925444</td>\n",
       "      <td>563595396</td>\n",
       "      <td>29370</td>\n",
       "    </tr>\n",
       "    <tr>\n",
       "      <th>Rodriguez High School</th>\n",
       "      <td>112111965</td>\n",
       "      <td>322898</td>\n",
       "      <td>307294</td>\n",
       "      <td>43989</td>\n",
       "      <td>15992001</td>\n",
       "      <td>10186904637</td>\n",
       "      <td>29370</td>\n",
       "    </tr>\n",
       "    <tr>\n",
       "      <th>Shelton High School</th>\n",
       "      <td>11879706</td>\n",
       "      <td>147441</td>\n",
       "      <td>146796</td>\n",
       "      <td>3522</td>\n",
       "      <td>3101121</td>\n",
       "      <td>1860672600</td>\n",
       "      <td>29370</td>\n",
       "    </tr>\n",
       "    <tr>\n",
       "      <th>Thomas High School</th>\n",
       "      <td>62705520</td>\n",
       "      <td>137093</td>\n",
       "      <td>136389</td>\n",
       "      <td>22890</td>\n",
       "      <td>2673225</td>\n",
       "      <td>1705517550</td>\n",
       "      <td>29370</td>\n",
       "    </tr>\n",
       "    <tr>\n",
       "      <th>Wilson High School</th>\n",
       "      <td>33950493</td>\n",
       "      <td>191748</td>\n",
       "      <td>190115</td>\n",
       "      <td>11415</td>\n",
       "      <td>5212089</td>\n",
       "      <td>3012587442</td>\n",
       "      <td>29370</td>\n",
       "    </tr>\n",
       "    <tr>\n",
       "      <th>Wright High School</th>\n",
       "      <td>45243900</td>\n",
       "      <td>151119</td>\n",
       "      <td>150628</td>\n",
       "      <td>18000</td>\n",
       "      <td>3240000</td>\n",
       "      <td>1888920000</td>\n",
       "      <td>29370</td>\n",
       "    </tr>\n",
       "  </tbody>\n",
       "</table>\n",
       "</div>"
      ],
      "text/plain": [
       "                       Student ID  reading_score  math_score  School ID  \\\n",
       "school_name                                                               \n",
       "Bailey High School      101303896         403225      383393      34832   \n",
       "Cabrera High School      31477307         156027      154329      11148   \n",
       "Figueroa High School     12949059         239335      226223       2949   \n",
       "Ford High School         99055935         221164      211184      35607   \n",
       "Griffin High School      19077394         123043      122360       5872   \n",
       "Hernandez High School    46090440         375131      358238      13905   \n",
       "Holden High School        9846620          35789       35784       3416   \n",
       "Huang High School         4252986         236810      223528          0   \n",
       "Johnson High School     154327815         385481      366942      57132   \n",
       "Pena High School         22851829          80851       80654       8658   \n",
       "Rodriguez High School   112111965         322898      307294      43989   \n",
       "Shelton High School      11879706         147441      146796       3522   \n",
       "Thomas High School       62705520         137093      136389      22890   \n",
       "Wilson High School       33950493         191748      190115      11415   \n",
       "Wright High School       45243900         151119      150628      18000   \n",
       "\n",
       "                           size       budget  Passing Math  \n",
       "school_name                                                 \n",
       "Bailey High School     24760576  15549641728         29370  \n",
       "Cabrera High School     3452164   2009159448         29370  \n",
       "Figueroa High School    8696601   5557128039         29370  \n",
       "Ford High School        7502121   4831365924         29370  \n",
       "Griffin High School     2155024   1346890000         29370  \n",
       "Hernandez High School  21483225  14007062700         29370  \n",
       "Holden High School       182329    105933149         29370  \n",
       "Huang High School       8508889   5573322295         29370  \n",
       "Johnson High School    22667121  14733628650         29370  \n",
       "Pena High School         925444    563595396         29370  \n",
       "Rodriguez High School  15992001  10186904637         29370  \n",
       "Shelton High School     3101121   1860672600         29370  \n",
       "Thomas High School      2673225   1705517550         29370  \n",
       "Wilson High School      5212089   3012587442         29370  \n",
       "Wright High School      3240000   1888920000         29370  "
      ]
     },
     "execution_count": 18,
     "metadata": {},
     "output_type": "execute_result"
    }
   ],
   "source": [
    "# school_comp_df[\"Passing Math\"] = students_passed_math\n",
    "# school_comp_df"
   ]
  },
  {
   "cell_type": "markdown",
   "metadata": {},
   "source": [
    "## Top Performing Schools (By % Overall Passing)"
   ]
  },
  {
   "cell_type": "markdown",
   "metadata": {},
   "source": [
    "* Sort and display the top five performing schools by % overall passing."
   ]
  },
  {
   "cell_type": "code",
   "execution_count": null,
   "metadata": {
    "scrolled": true
   },
   "outputs": [],
   "source": []
  },
  {
   "cell_type": "markdown",
   "metadata": {},
   "source": [
    "## Bottom Performing Schools (By % Overall Passing)"
   ]
  },
  {
   "cell_type": "markdown",
   "metadata": {},
   "source": [
    "* Sort and display the five worst-performing schools by % overall passing."
   ]
  },
  {
   "cell_type": "code",
   "execution_count": null,
   "metadata": {},
   "outputs": [],
   "source": []
  },
  {
   "cell_type": "markdown",
   "metadata": {
    "collapsed": true
   },
   "source": [
    "## Math Scores by Grade"
   ]
  },
  {
   "cell_type": "markdown",
   "metadata": {},
   "source": [
    "* Create a table that lists the average Reading Score for students of each grade level (9th, 10th, 11th, 12th) at each school.\n",
    "\n",
    "  * Create a pandas series for each grade. Hint: use a conditional statement.\n",
    "  \n",
    "  * Group each series by school\n",
    "  \n",
    "  * Combine the series into a dataframe\n",
    "  \n",
    "  * Optional: give the displayed data cleaner formatting"
   ]
  },
  {
   "cell_type": "code",
   "execution_count": null,
   "metadata": {},
   "outputs": [],
   "source": []
  },
  {
   "cell_type": "markdown",
   "metadata": {},
   "source": [
    "## Reading Score by Grade "
   ]
  },
  {
   "cell_type": "markdown",
   "metadata": {},
   "source": [
    "* Perform the same operations as above for reading scores"
   ]
  },
  {
   "cell_type": "code",
   "execution_count": null,
   "metadata": {},
   "outputs": [],
   "source": []
  },
  {
   "cell_type": "markdown",
   "metadata": {},
   "source": [
    "## Scores by School Spending"
   ]
  },
  {
   "cell_type": "markdown",
   "metadata": {},
   "source": [
    "* Create a table that breaks down school performances based on average Spending Ranges (Per Student). Use 4 reasonable bins to group school spending. Include in the table each of the following:\n",
    "  * Average Math Score\n",
    "  * Average Reading Score\n",
    "  * % Passing Math\n",
    "  * % Passing Reading\n",
    "  * Overall Passing Rate (Average of the above two)"
   ]
  },
  {
   "cell_type": "code",
   "execution_count": null,
   "metadata": {},
   "outputs": [],
   "source": []
  },
  {
   "cell_type": "markdown",
   "metadata": {},
   "source": [
    "## Scores by School Size"
   ]
  },
  {
   "cell_type": "markdown",
   "metadata": {},
   "source": [
    "* Perform the same operations as above, based on school size."
   ]
  },
  {
   "cell_type": "code",
   "execution_count": null,
   "metadata": {
    "scrolled": true
   },
   "outputs": [],
   "source": []
  },
  {
   "cell_type": "markdown",
   "metadata": {},
   "source": [
    "## Scores by School Type"
   ]
  },
  {
   "cell_type": "markdown",
   "metadata": {},
   "source": [
    "* Perform the same operations as above, based on school type"
   ]
  },
  {
   "cell_type": "code",
   "execution_count": null,
   "metadata": {},
   "outputs": [],
   "source": []
  },
  {
   "cell_type": "code",
   "execution_count": null,
   "metadata": {},
   "outputs": [],
   "source": []
  }
 ],
 "metadata": {
  "anaconda-cloud": {},
  "kernel_info": {
   "name": "python3"
  },
  "kernelspec": {
   "display_name": "Python 3",
   "language": "python",
   "name": "python3"
  },
  "language_info": {
   "codemirror_mode": {
    "name": "ipython",
    "version": 3
   },
   "file_extension": ".py",
   "mimetype": "text/x-python",
   "name": "python",
   "nbconvert_exporter": "python",
   "pygments_lexer": "ipython3",
   "version": "3.6.10"
  },
  "latex_envs": {
   "LaTeX_envs_menu_present": true,
   "autoclose": false,
   "autocomplete": true,
   "bibliofile": "biblio.bib",
   "cite_by": "apalike",
   "current_citInitial": 1,
   "eqLabelWithNumbers": true,
   "eqNumInitial": 1,
   "hotkeys": {
    "equation": "Ctrl-E",
    "itemize": "Ctrl-I"
   },
   "labels_anchors": false,
   "latex_user_defs": false,
   "report_style_numbering": false,
   "user_envs_cfg": false
  },
  "nteract": {
   "version": "0.8.4"
  }
 },
 "nbformat": 4,
 "nbformat_minor": 1
}
